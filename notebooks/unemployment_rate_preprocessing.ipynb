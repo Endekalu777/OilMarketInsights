{
 "cells": [
  {
   "cell_type": "code",
   "execution_count": 1,
   "metadata": {},
   "outputs": [
    {
     "name": "stderr",
     "output_type": "stream",
     "text": [
      "C:\\Users\\Ashis\\AppData\\Local\\Temp\\ipykernel_24136\\2088059969.py:40: SettingWithCopyWarning: \n",
      "A value is trying to be set on a copy of a slice from a DataFrame.\n",
      "Try using .loc[row_indexer,col_indexer] = value instead\n",
      "\n",
      "See the caveats in the documentation: https://pandas.pydata.org/pandas-docs/stable/user_guide/indexing.html#returning-a-view-versus-a-copy\n",
      "  country_data['Date'] = country_data['Year'].dt.strftime('31-Dec-%y')\n",
      "C:\\Users\\Ashis\\AppData\\Local\\Temp\\ipykernel_24136\\2088059969.py:40: SettingWithCopyWarning: \n",
      "A value is trying to be set on a copy of a slice from a DataFrame.\n",
      "Try using .loc[row_indexer,col_indexer] = value instead\n",
      "\n",
      "See the caveats in the documentation: https://pandas.pydata.org/pandas-docs/stable/user_guide/indexing.html#returning-a-view-versus-a-copy\n",
      "  country_data['Date'] = country_data['Year'].dt.strftime('31-Dec-%y')\n",
      "C:\\Users\\Ashis\\AppData\\Local\\Temp\\ipykernel_24136\\2088059969.py:40: SettingWithCopyWarning: \n",
      "A value is trying to be set on a copy of a slice from a DataFrame.\n",
      "Try using .loc[row_indexer,col_indexer] = value instead\n",
      "\n",
      "See the caveats in the documentation: https://pandas.pydata.org/pandas-docs/stable/user_guide/indexing.html#returning-a-view-versus-a-copy\n",
      "  country_data['Date'] = country_data['Year'].dt.strftime('31-Dec-%y')\n",
      "C:\\Users\\Ashis\\AppData\\Local\\Temp\\ipykernel_24136\\2088059969.py:40: SettingWithCopyWarning: \n",
      "A value is trying to be set on a copy of a slice from a DataFrame.\n",
      "Try using .loc[row_indexer,col_indexer] = value instead\n",
      "\n",
      "See the caveats in the documentation: https://pandas.pydata.org/pandas-docs/stable/user_guide/indexing.html#returning-a-view-versus-a-copy\n",
      "  country_data['Date'] = country_data['Year'].dt.strftime('31-Dec-%y')\n"
     ]
    }
   ],
   "source": [
    "# Import necessary libraries\n",
    "import pandas as pd\n",
    "\n",
    "# Load the data from the CSV file\n",
    "file_path = \"../data/Unemployment_rate.csv\"  # Adjust the path as necessary\n",
    "\n",
    "# Read the CSV file, skipping initial metadata rows if needed\n",
    "df = pd.read_csv(file_path)\n",
    "\n",
    "# Strip whitespace from column names\n",
    "df.columns = df.columns.str.strip()\n",
    "\n",
    "# Keep only relevant columns: Country Name, Country Code, Indicator Name, Indicator Code, and Year columns\n",
    "year_columns = [str(year) for year in range(1960, 2024)]  # Adjust year range as necessary\n",
    "available_year_columns = [col for col in year_columns if col in df.columns]\n",
    "relevant_columns = [\"Country Name\", \"Country Code\", \"Indicator Name\", \"Indicator Code\"] + available_year_columns\n",
    "\n",
    "# Filter the DataFrame to keep only the relevant columns\n",
    "df = df[relevant_columns]\n",
    "\n",
    "# Melt the DataFrame to long format (keeping only years)\n",
    "melted_df = df.melt(id_vars=[\"Country Name\", \"Country Code\", \"Indicator Name\", \"Indicator Code\"],\n",
    "                     var_name=\"Year\", value_name=\"Unemployment Rate\")\n",
    "\n",
    "# Filter out rows where 'Unemployment Rate' is NaN\n",
    "melted_df = melted_df.dropna(subset=[\"Unemployment Rate\"])\n",
    "\n",
    "# Convert 'Year' to a datetime format\n",
    "melted_df['Year'] = pd.to_datetime(melted_df['Year'], format='%Y')\n",
    "\n",
    "# Specify the countries of interest\n",
    "countries_of_interest = [\"India\", \"China\", \"Saudi Arabia\", \"United States\"]\n",
    "\n",
    "# Save the data for each country into separate CSV files\n",
    "for country in countries_of_interest:\n",
    "    # Filter the DataFrame for the current country\n",
    "    country_data = melted_df[melted_df[\"Country Name\"] == country]\n",
    "    \n",
    "    # Format the 'Year' for better readability\n",
    "    country_data['Date'] = country_data['Year'].dt.strftime('31-Dec-%y')\n",
    "    \n",
    "    # Keep only the 'Date' and 'Unemployment Rate' columns for the final output\n",
    "    final_country_data = country_data[['Date', 'Unemployment Rate']]\n",
    "    \n",
    "    # Save to a CSV file, naming the file using the country name\n",
    "    output_file = f'../data/unemployment_rate/{country.replace(\" \", \"_\")}_Unemployment_Rate.csv'  # Replace spaces with underscores\n",
    "    final_country_data.to_csv(output_file, index=False)\n",
    "\n"
   ]
  }
 ],
 "metadata": {
  "kernelspec": {
   "display_name": "week10",
   "language": "python",
   "name": "python3"
  },
  "language_info": {
   "codemirror_mode": {
    "name": "ipython",
    "version": 3
   },
   "file_extension": ".py",
   "mimetype": "text/x-python",
   "name": "python",
   "nbconvert_exporter": "python",
   "pygments_lexer": "ipython3",
   "version": "3.12.4"
  }
 },
 "nbformat": 4,
 "nbformat_minor": 2
}
