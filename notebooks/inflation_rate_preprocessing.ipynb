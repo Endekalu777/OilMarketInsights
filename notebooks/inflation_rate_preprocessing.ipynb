{
 "cells": [
  {
   "cell_type": "code",
   "execution_count": 4,
   "metadata": {},
   "outputs": [
    {
     "name": "stdout",
     "output_type": "stream",
     "text": [
      "Columns in dataset: ['Country Name', 'Country Code', 'Indicator Name', 'Indicator Code', '1960', '1961', '1962', '1963', '1964', '1965', '1966', '1967', '1968', '1969', '1970', '1971', '1972', '1973', '1974', '1975', '1976', '1977', '1978', '1979', '1980', '1981', '1982', '1983', '1984', '1985', '1986', '1987', '1988', '1989', '1990', '1991', '1992', '1993', '1994', '1995', '1996', '1997', '1998', '1999', '2000', '2001', '2002', '2003', '2004', '2005', '2006', '2007', '2008', '2009', '2010', '2011', '2012', '2013', '2014', '2015', '2016', '2017', '2018', '2019', '2020', '2021', '2022', '2023', 'Unnamed: 68']\n",
      "Saved data for India to ../data/country_inflation_data\\India_Inflation_Rate.csv\n",
      "Saved data for China to ../data/country_inflation_data\\China_Inflation_Rate.csv\n",
      "Saved data for Saudi Arabia to ../data/country_inflation_data\\Saudi_Arabia_Inflation_Rate.csv\n",
      "Saved data for United States to ../data/country_inflation_data\\United_States_Inflation_Rate.csv\n",
      "Data formatted and saved as inflation rates for each country.\n"
     ]
    }
   ],
   "source": [
    "import pandas as pd\n",
    "import os\n",
    "\n",
    "# Load the Inflation Rate Data from the CSV File\n",
    "file_path = \"../data/inflation_rate.csv\"  \n",
    "df = pd.read_csv(file_path)  \n",
    "\n",
    "# Check the column names to understand the structure of the CSV file\n",
    "print(\"Columns in dataset:\", df.columns.tolist())\n",
    "\n",
    "\n",
    "# Strip whitespace from column names\n",
    "df.columns = df.columns.str.strip()\n",
    "\n",
    "# Verify that 'Country Name' and 'Country Code' columns are in the DataFrame\n",
    "if \"Country Name\" not in df.columns or \"Country Code\" not in df.columns:\n",
    "    raise KeyError(\"Columns 'Country Name' and/or 'Country Code' not found in the data.\")\n",
    "\n",
    "year_columns = [str(year) for year in range(1987, 2022)]  # Adjust year range if necessary\n",
    "available_year_columns = [col for col in year_columns if col in df.columns]\n",
    "relevant_columns = [\"Country Name\", \"Country Code\"] + available_year_columns\n",
    "df = df[relevant_columns]\n",
    "\n",
    "# Convert Wide Format to Long Format for Easier Filtering\n",
    "melted_df = df.melt(id_vars=[\"Country Name\", \"Country Code\"], \n",
    "                    var_name=\"Year\", value_name=\"Inflation Rate\")\n",
    "\n",
    "# Remove rows with NaN in 'Inflation Rate'\n",
    "melted_df = melted_df.dropna(subset=[\"Inflation Rate\"])\n",
    "\n",
    "# Convert 'Year' column to integer\n",
    "melted_df['Year'] = melted_df['Year'].astype(int)\n",
    "\n",
    "# Convert 'Year' to 'Date' format (end of the year format)\n",
    "melted_df['Date'] = \"31-Dec-\" + melted_df['Year'].astype(str).str[2:]\n",
    "\n",
    "# Specify Countries of Interest\n",
    "countries_of_interest = [\"India\", \"China\", \"Saudi Arabia\", \"United States\"]\n",
    "\n",
    "# Directory for Saving Files\n",
    "output_dir = '../data/country_inflation_data'\n",
    "os.makedirs(output_dir, exist_ok=True)\n",
    "\n",
    "# Process and Save Data for Each Country\n",
    "for country in countries_of_interest:\n",
    "    # Filter data for the current country\n",
    "    country_data = melted_df[melted_df[\"Country Name\"] == country]\n",
    "    \n",
    "    if country_data.empty:\n",
    "        print(f\"No data available for {country}. Skipping.\")\n",
    "        continue\n",
    "    \n",
    "    # Select only the 'Date' and 'Inflation Rate' columns for output\n",
    "    output_df = country_data[['Date', 'Inflation Rate']]\n",
    "    \n",
    "    # Save to CSV file\n",
    "    output_file = os.path.join(output_dir, f\"{country.replace(' ', '_')}_Inflation_Rate.csv\")\n",
    "    output_df.to_csv(output_file, index=False)\n",
    "    print(f\"Saved data for {country} to {output_file}\")\n",
    "\n",
    "# Confirmation message\n",
    "print(\"Data formatted and saved as inflation rates for each country.\")\n"
   ]
  }
 ],
 "metadata": {
  "kernelspec": {
   "display_name": "week10",
   "language": "python",
   "name": "python3"
  },
  "language_info": {
   "codemirror_mode": {
    "name": "ipython",
    "version": 3
   },
   "file_extension": ".py",
   "mimetype": "text/x-python",
   "name": "python",
   "nbconvert_exporter": "python",
   "pygments_lexer": "ipython3",
   "version": "3.12.4"
  }
 },
 "nbformat": 4,
 "nbformat_minor": 2
}
