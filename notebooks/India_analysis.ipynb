{
 "cells": [
  {
   "cell_type": "code",
   "execution_count": 1,
   "metadata": {},
   "outputs": [],
   "source": [
    "import sys\n",
    "import os\n",
    "sys.path.append(os.path.abspath(os.path.join('..')))"
   ]
  },
  {
   "cell_type": "code",
   "execution_count": 2,
   "metadata": {},
   "outputs": [],
   "source": [
    "from scripts.Oil_price_analysis import *"
   ]
  },
  {
   "cell_type": "code",
   "execution_count": 3,
   "metadata": {},
   "outputs": [
    {
     "name": "stderr",
     "output_type": "stream",
     "text": [
      "c:\\Users\\Ashis\\Desktop\\KAIM Program 2\\week_10\\scripts\\Oil_price_analysis.py:11: UserWarning: Could not infer format, so each element will be parsed individually, falling back to `dateutil`. To ensure parsing is consistent and as-expected, please specify a format.\n",
      "  self.oil_prices = pd.read_csv(oil_prices_file, parse_dates=['Date'], dayfirst=True)\n",
      "c:\\Users\\Ashis\\Desktop\\KAIM Program 2\\week_10\\scripts\\Oil_price_analysis.py:12: UserWarning: Could not infer format, so each element will be parsed individually, falling back to `dateutil`. To ensure parsing is consistent and as-expected, please specify a format.\n",
      "  self.inflation = pd.read_csv(inflation_file, parse_dates=['Date'], dayfirst=True)\n",
      "c:\\Users\\Ashis\\Desktop\\KAIM Program 2\\week_10\\scripts\\Oil_price_analysis.py:14: UserWarning: Could not infer format, so each element will be parsed individually, falling back to `dateutil`. To ensure parsing is consistent and as-expected, please specify a format.\n",
      "  self.unemployment = pd.read_csv(unemployment_file, parse_dates=['Date'], dayfirst=True)\n"
     ]
    }
   ],
   "source": [
    "analysis = OilPriceAnalysis(\"../data/BrentOilPrices.csv\", \"../data/country_inflation_data/India_Inflation_Rate.csv\", \"../data/GDP/GDPIndia.csv\", \"../data/unemployment_rate/India_Unemployment_Rate.csv\")"
   ]
  },
  {
   "cell_type": "code",
   "execution_count": 4,
   "metadata": {},
   "outputs": [],
   "source": [
    "analysis.preprocess_data()"
   ]
  },
  {
   "cell_type": "code",
   "execution_count": 5,
   "metadata": {},
   "outputs": [
    {
     "ename": "AttributeError",
     "evalue": "'OilPriceAnalysis' object has no attribute 'plot_data'",
     "output_type": "error",
     "traceback": [
      "\u001b[1;31m---------------------------------------------------------------------------\u001b[0m",
      "\u001b[1;31mAttributeError\u001b[0m                            Traceback (most recent call last)",
      "Cell \u001b[1;32mIn[5], line 1\u001b[0m\n\u001b[1;32m----> 1\u001b[0m \u001b[43manalysis\u001b[49m\u001b[38;5;241;43m.\u001b[39;49m\u001b[43mplot_data\u001b[49m()\n",
      "\u001b[1;31mAttributeError\u001b[0m: 'OilPriceAnalysis' object has no attribute 'plot_data'"
     ]
    }
   ],
   "source": [
    "analysis.plot_data()"
   ]
  },
  {
   "cell_type": "code",
   "execution_count": null,
   "metadata": {},
   "outputs": [],
   "source": []
  }
 ],
 "metadata": {
  "kernelspec": {
   "display_name": "week10",
   "language": "python",
   "name": "python3"
  },
  "language_info": {
   "codemirror_mode": {
    "name": "ipython",
    "version": 3
   },
   "file_extension": ".py",
   "mimetype": "text/x-python",
   "name": "python",
   "nbconvert_exporter": "python",
   "pygments_lexer": "ipython3",
   "version": "3.12.4"
  }
 },
 "nbformat": 4,
 "nbformat_minor": 2
}
